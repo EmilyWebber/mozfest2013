{
 "metadata": {
  "name": "Python_ner.ipynb"
 },
 "nbformat": 3,
 "nbformat_minor": 0,
 "worksheets": [
  {
   "cells": [
    {
     "cell_type": "markdown",
     "metadata": {},
     "source": [
      "# Sentence-level text analysis\n",
      "\n",
      "## Named Entity Recognition in Python\n",
      "\n",
      "This library assumes you are running the [Stanford NER](http://nlp.stanford.edu/software/CRF-NER.shtml) system as a server.  Assuming you have downloaded the JAR and the associated classifier models, you can start the server on port 8080 as follows:\n",
      "    \n",
      "    java -mx1000m -cp stanford-ner.jar edu.stanford.nlp.ie.NERServer -loadClassifier classifiers/english.muc.7class.distsim.crf.ser.gz -port 8080 & \n",
      "    \n",
      "You will need to give the Stanford NER at least 1 GB of memory..."
     ]
    },
    {
     "cell_type": "code",
     "collapsed": false,
     "input": [
      "import os\n",
      "os.chdir('/Users/rweiss/Dropbox/presentations/MozFest2013/data/')\n",
      "ner_path = \"/Users/rweiss/Dropbox/presentations/MozFest2013/vendor/stanford-ner-2013-06-20\"\n",
      "infile = open(\"nyt_titles.csv\", 'r')\n",
      "nyt_titles = []\n",
      "for line in infile:\n",
      "    nyt_titles.append(line)\n",
      "\n",
      "from nltk.tag.stanford import NERTagger\n",
      "st = NERTagger(os.path.join(ner_path, 'classifiers/english.all.3class.distsim.crf.ser.gz'),\n",
      "                os.path.join(ner_path, 'stanford-ner.jar'))\n",
      "\n",
      "for title in nyt_titles[10:20]:\n",
      "    print 'Original text: ' + ''.join(title)\n",
      "    print 'Annotated text: ' + str(st.tag(title.split()))\n",
      "    print 'Annotated text (lowercase): ' + str(st.tag(title.lower().split()))\n",
      "    print"
     ],
     "language": "python",
     "metadata": {},
     "outputs": [
      {
       "output_type": "stream",
       "stream": "stdout",
       "text": [
        "Original text: \"Clinton Visits Bosnia to Thank the G.I.'s\"\n",
        "\n",
        "Annotated text: [('``', 'O'), ('Clinton', 'PERSON'), ('Visits', 'O'), ('Bosnia', 'LOCATION'), ('to', 'O'), ('Thank', 'O'), ('the', 'O'), ('G.I.', 'O'), (\"'s\", 'O'), (\"''\", 'O')]"
       ]
      },
      {
       "output_type": "stream",
       "stream": "stdout",
       "text": [
        "\n",
        "Annotated text (lowercase): [('``', 'O'), ('clinton', 'PERSON'), ('visits', 'O'), ('bosnia', 'O'), ('to', 'O'), ('thank', 'O'), ('the', 'O'), ('g.i.', 'O'), (\"'s\", 'O'), (\"''\", 'O')]"
       ]
      },
      {
       "output_type": "stream",
       "stream": "stdout",
       "text": [
        "\n",
        "\n",
        "Original text: \"Managed Care Has Trouble Treating AIDS, Patients Say\"\n",
        "\n",
        "Annotated text: [('``', 'O'), ('Managed', 'O'), ('Care', 'O'), ('Has', 'O'), ('Trouble', 'O'), ('Treating', 'O'), ('AIDS', 'O'), (',', 'O'), ('Patients', 'O'), ('Say', 'O'), (\"''\", 'O')]"
       ]
      },
      {
       "output_type": "stream",
       "stream": "stdout",
       "text": [
        "\n",
        "Annotated text (lowercase): [('``', 'O'), ('managed', 'O'), ('care', 'O'), ('has', 'O'), ('trouble', 'O'), ('treating', 'O'), ('aids', 'O'), (',', 'O'), ('patients', 'O'), ('say', 'O'), (\"''\", 'O')]"
       ]
      },
      {
       "output_type": "stream",
       "stream": "stdout",
       "text": [
        "\n",
        "\n",
        "Original text: \"Russians Pounding Rebels Who Hold 100 Hostages\"\n",
        "\n",
        "Annotated text: [('``', 'O'), ('Russians', 'O'), ('Pounding', 'O'), ('Rebels', 'O'), ('Who', 'O'), ('Hold', 'O'), ('100', 'O'), ('Hostages', 'O'), (\"''\", 'O')]"
       ]
      },
      {
       "output_type": "stream",
       "stream": "stdout",
       "text": [
        "\n",
        "Annotated text (lowercase): [('``', 'O'), ('russians', 'O'), ('pounding', 'O'), ('rebels', 'O'), ('who', 'O'), ('hold', 'O'), ('100', 'O'), ('hostages', 'O'), (\"''\", 'O')]"
       ]
      },
      {
       "output_type": "stream",
       "stream": "stdout",
       "text": [
        "\n",
        "\n",
        "Original text: \"BUDGET STANDOFF DEEPENS AS G.O.P. CALLS OFF TALKS\"\n",
        "\n",
        "Annotated text: [('``', 'O'), ('BUDGET', 'O'), ('STANDOFF', 'O'), ('DEEPENS', 'O'), ('AS', 'O'), ('G.O.P.', 'O'), ('CALLS', 'O'), ('OFF', 'O'), ('TALKS', 'O'), (\"''\", 'O')]"
       ]
      },
      {
       "output_type": "stream",
       "stream": "stdout",
       "text": [
        "\n",
        "Annotated text (lowercase): [('``', 'O'), ('budget', 'O'), ('standoff', 'O'), ('deepens', 'O'), ('as', 'O'), ('g.o.p.', 'O'), ('calls', 'O'), ('off', 'O'), ('talks', 'O'), (\"''\", 'O')]"
       ]
      },
      {
       "output_type": "stream",
       "stream": "stdout",
       "text": [
        "\n",
        "\n",
        "Original text: \"In Uneasy Time, Saudi Prince Provides a Hope of Stability\"\n",
        "\n",
        "Annotated text: [('``', 'O'), ('In', 'O'), ('Uneasy', 'O'), ('Time', 'O'), (',', 'O'), ('Saudi', 'O'), ('Prince', 'O'), ('Provides', 'O'), ('a', 'O'), ('Hope', 'O'), ('of', 'O'), ('Stability', 'O'), (\"''\", 'O')]"
       ]
      },
      {
       "output_type": "stream",
       "stream": "stdout",
       "text": [
        "\n",
        "Annotated text (lowercase): [('``', 'O'), ('in', 'O'), ('uneasy', 'O'), ('time', 'O'), (',', 'O'), ('saudi', 'O'), ('prince', 'O'), ('provides', 'O'), ('a', 'O'), ('hope', 'O'), ('of', 'O'), ('stability', 'O'), (\"''\", 'O')]"
       ]
      },
      {
       "output_type": "stream",
       "stream": "stdout",
       "text": [
        "\n",
        "\n",
        "Original text: \"POLITICS: IN THE SOUTH; A Southern Democrat Resists The Lure of Party Switching\"\n",
        "\n",
        "Annotated text: [('``', 'O'), ('POLITICS', 'O'), (':', 'O'), ('IN', 'O'), ('THE', 'O'), ('SOUTH', 'O'), (';', 'O'), ('A', 'O'), ('Southern', 'O'), ('Democrat', 'O'), ('Resists', 'O'), ('The', 'O'), ('Lure', 'O'), ('of', 'O'), ('Party', 'O'), ('Switching', 'O'), (\"''\", 'O')]"
       ]
      },
      {
       "output_type": "stream",
       "stream": "stdout",
       "text": [
        "\n",
        "Annotated text (lowercase): [('``', 'O'), ('politics', 'O'), (':', 'O'), ('in', 'O'), ('the', 'O'), ('south', 'O'), (';', 'O'), ('a', 'O'), ('southern', 'O'), ('democrat', 'O'), ('resists', 'O'), ('the', 'O'), ('lure', 'O'), ('of', 'O'), ('party', 'O'), ('switching', 'O'), (\"''\", 'O')]"
       ]
      },
      {
       "output_type": "stream",
       "stream": "stdout",
       "text": [
        "\n",
        "\n",
        "Original text: \"With the Greatest of Ease . . .\"\n",
        "\n",
        "Annotated text: [('``', 'O'), ('With', 'O'), ('the', 'O'), ('Greatest', 'O'), ('of', 'O'), ('Ease', 'O'), ('...', 'O'), (\"''\", 'O')]"
       ]
      },
      {
       "output_type": "stream",
       "stream": "stdout",
       "text": [
        "\n",
        "Annotated text (lowercase): [('``', 'O'), ('with', 'O'), ('the', 'O'), ('greatest', 'O'), ('of', 'O'), ('ease', 'O'), ('...', 'O'), (\"''\", 'O')]"
       ]
      },
      {
       "output_type": "stream",
       "stream": "stdout",
       "text": [
        "\n",
        "\n",
        "Original text: \"Supreme Court Roundup; Christian Scientists Rebuffed in Ruling By Supreme Court\"\n",
        "\n",
        "Annotated text: [('``', 'O'), ('Supreme', 'O'), ('Court', 'O'), ('Roundup', 'O'), (';', 'O'), ('Christian', 'ORGANIZATION'), ('Scientists', 'ORGANIZATION'), ('Rebuffed', 'ORGANIZATION'), ('in', 'O'), ('Ruling', 'O'), ('By', 'O'), ('Supreme', 'ORGANIZATION'), ('Court', 'ORGANIZATION'), (\"''\", 'O')]"
       ]
      },
      {
       "output_type": "stream",
       "stream": "stdout",
       "text": [
        "\n",
        "Annotated text (lowercase): [('``', 'O'), ('supreme', 'O'), ('court', 'O'), ('roundup', 'O'), (';', 'O'), ('christian', 'O'), ('scientists', 'O'), ('rebuffed', 'O'), ('in', 'O'), ('ruling', 'O'), ('by', 'O'), ('supreme', 'ORGANIZATION'), ('court', 'ORGANIZATION'), (\"''\", 'O')]"
       ]
      },
      {
       "output_type": "stream",
       "stream": "stdout",
       "text": [
        "\n",
        "\n",
        "Original text: \"Newark Airport Is Pressing to Surpass Kennedy\"\n",
        "\n",
        "Annotated text: [('``', 'O'), ('Newark', 'LOCATION'), ('Airport', 'LOCATION'), ('Is', 'O'), ('Pressing', 'O'), ('to', 'O'), ('Surpass', 'O'), ('Kennedy', 'O'), (\"''\", 'O')]"
       ]
      },
      {
       "output_type": "stream",
       "stream": "stdout",
       "text": [
        "\n",
        "Annotated text (lowercase): [('``', 'O'), ('newark', 'O'), ('airport', 'O'), ('is', 'O'), ('pressing', 'O'), ('to', 'O'), ('surpass', 'O'), ('kennedy', 'O'), (\"''\", 'O')]"
       ]
      },
      {
       "output_type": "stream",
       "stream": "stdout",
       "text": [
        "\n",
        "\n",
        "Original text: \"Giuliani Weighs Reducing Police Force by 1,000 Jobs\"\n",
        "\n",
        "Annotated text: [('``', 'O'), ('Giuliani', 'PERSON'), ('Weighs', 'O'), ('Reducing', 'O'), ('Police', 'O'), ('Force', 'O'), ('by', 'O'), ('1,000', 'O'), ('Jobs', 'O'), (\"''\", 'O')]"
       ]
      },
      {
       "output_type": "stream",
       "stream": "stdout",
       "text": [
        "\n",
        "Annotated text (lowercase): [('``', 'O'), ('giuliani', 'O'), ('weighs', 'O'), ('reducing', 'O'), ('police', 'O'), ('force', 'O'), ('by', 'O'), ('1,000', 'O'), ('jobs', 'O'), (\"''\", 'O')]"
       ]
      },
      {
       "output_type": "stream",
       "stream": "stdout",
       "text": [
        "\n",
        "\n"
       ]
      }
     ],
     "prompt_number": 1
    },
    {
     "cell_type": "markdown",
     "metadata": {},
     "source": [
      "## Big picture\n",
      "\n",
      "1. Where does the NER system fail?  Why do you think that's the case?\n",
      "2. What kind of entities aren't recognized when in lowercase?"
     ]
    }
   ],
   "metadata": {}
  }
 ]
}